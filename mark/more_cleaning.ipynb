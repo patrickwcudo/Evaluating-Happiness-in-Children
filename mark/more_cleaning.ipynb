{
 "cells": [
  {
   "cell_type": "code",
   "execution_count": 3,
   "metadata": {},
   "outputs": [],
   "source": [
    "import pandas as pd\n",
    "import numpy as np"
   ]
  },
  {
   "cell_type": "code",
   "execution_count": 4,
   "metadata": {},
   "outputs": [],
   "source": [
    "df = pd.read_feather('../data/h201.feather')\n",
    "var = pd.read_csv('../data/Health Status Variables.csv')"
   ]
  },
  {
   "cell_type": "code",
   "execution_count": 23,
   "metadata": {},
   "outputs": [],
   "source": [
    "df = df.loc[(df['AGELAST'] <= 17) & (df['AGELAST'] >= 5), :]"
   ]
  },
  {
   "cell_type": "code",
   "execution_count": 37,
   "metadata": {},
   "outputs": [],
   "source": [
    "#children with special health care needs screener variables\n",
    "special_needs = [col for col in var['VARIABLE'][31:45]]"
   ]
  },
  {
   "cell_type": "code",
   "execution_count": 40,
   "metadata": {},
   "outputs": [],
   "source": [
    "# columbia impairment scale\n",
    "impairment = [col for col in var['VARIABLE'][45:58]]"
   ]
  },
  {
   "cell_type": "code",
   "execution_count": 44,
   "metadata": {},
   "outputs": [],
   "source": [
    "#Consumer Assessment of Healthcare Providers and Systems (CHAP)\n",
    "chap = [col for col in var['VARIABLE'][58:72]]"
   ]
  },
  {
   "cell_type": "code",
   "execution_count": 48,
   "metadata": {},
   "outputs": [],
   "source": [
    "#child BMI + Dr. Advise about exercise\n",
    "bmi = [['CHBMIX42', 'WHNPHY42']]"
   ]
  },
  {
   "cell_type": "code",
   "execution_count": 61,
   "metadata": {},
   "outputs": [],
   "source": [
    "#Other identifiers: sex, race, family_income, \n",
    "other = [['SEX', 'RACEV2X', 'FAMINC17']]"
   ]
  },
  {
   "cell_type": "code",
   "execution_count": 79,
   "metadata": {},
   "outputs": [],
   "source": [
    "df[special_needs]\n",
    "num_values = []\n",
    "for i in special_needs:\n",
    "    num_values.append((df[i].value_counts(normalize=True)))"
   ]
  },
  {
   "cell_type": "code",
   "execution_count": 80,
   "metadata": {
    "collapsed": true,
    "jupyter": {
     "outputs_hidden": true
    }
   },
   "outputs": [
    {
     "data": {
      "text/plain": [
       "[-1.0    0.813972\n",
       "  1.0    0.176279\n",
       "  2.0    0.009586\n",
       " -8.0    0.000162\n",
       " Name: CHPMHB42, dtype: float64,\n",
       " -1.0    0.823721\n",
       "  1.0    0.159545\n",
       "  2.0    0.013160\n",
       " -8.0    0.003574\n",
       " Name: CHPMCN42, dtype: float64,\n",
       "  2.0    0.878798\n",
       "  1.0    0.109017\n",
       " -1.0    0.005037\n",
       " -7.0    0.003737\n",
       " -8.0    0.002924\n",
       " -9.0    0.000487\n",
       " Name: CHSERV42, dtype: float64,\n",
       " -1.0    0.890983\n",
       "  1.0    0.097644\n",
       "  2.0    0.010885\n",
       " -8.0    0.000325\n",
       " -9.0    0.000162\n",
       " Name: CHSRHB42, dtype: float64,\n",
       " -1.0    0.902356\n",
       "  1.0    0.094882\n",
       "  2.0    0.002112\n",
       " -8.0    0.000650\n",
       " Name: CHSRCN42, dtype: float64,\n",
       "  2.0    0.933875\n",
       "  1.0    0.054752\n",
       " -1.0    0.005037\n",
       " -7.0    0.003737\n",
       " -8.0    0.002112\n",
       " -9.0    0.000487\n",
       " Name: CHLIMI42, dtype: float64,\n",
       " -1.0    0.945248\n",
       "  1.0    0.051015\n",
       "  2.0    0.003737\n",
       " Name: CHLIHB42, dtype: float64,\n",
       " -1.0    0.948985\n",
       "  1.0    0.049878\n",
       "  2.0    0.001137\n",
       " Name: CHLICO42, dtype: float64,\n",
       "  2.0    0.922177\n",
       "  1.0    0.066937\n",
       " -1.0    0.005037\n",
       " -7.0    0.003899\n",
       " -8.0    0.001462\n",
       " -9.0    0.000487\n",
       " Name: CHTHER42, dtype: float64,\n",
       " -1.0    0.933063\n",
       "  1.0    0.052640\n",
       "  2.0    0.014297\n",
       " Name: CHTHHB42, dtype: float64,\n",
       " -1.0    0.947360\n",
       "  1.0    0.049716\n",
       "  2.0    0.002275\n",
       " -8.0    0.000650\n",
       " Name: CHTHCO42, dtype: float64,\n",
       "  2.0    0.894882\n",
       "  1.0    0.094395\n",
       " -1.0    0.005037\n",
       " -7.0    0.003574\n",
       " -8.0    0.001625\n",
       " -9.0    0.000487\n",
       " Name: CHCOUN42, dtype: float64,\n",
       " -1.0    0.905605\n",
       "  1.0    0.082047\n",
       "  2.0    0.009098\n",
       " -8.0    0.003249\n",
       " Name: CHEMPB42, dtype: float64,\n",
       "  2.0    0.765394\n",
       "  1.0    0.217872\n",
       "  3.0    0.011698\n",
       " -1.0    0.005037\n",
       " Name: CSHCN42, dtype: float64]"
      ]
     },
     "execution_count": 80,
     "metadata": {},
     "output_type": "execute_result"
    }
   ],
   "source": [
    "num_values"
   ]
  },
  {
   "cell_type": "code",
   "execution_count": 72,
   "metadata": {},
   "outputs": [],
   "source": [
    "test = []\n",
    "test.append(df['SEX'].value_counts(normalize=True))"
   ]
  },
  {
   "cell_type": "code",
   "execution_count": 5,
   "metadata": {},
   "outputs": [
    {
     "data": {
      "text/plain": [
       "-1.0    0.884693\n",
       " 1.0    0.099718\n",
       " 2.0    0.011575\n",
       " 3.0    0.003795\n",
       "-8.0    0.000220\n",
       "Name: WHNPHY42, dtype: float64"
      ]
     },
     "execution_count": 5,
     "metadata": {},
     "output_type": "execute_result"
    }
   ],
   "source": [
    "df['WHNPHY42'].value_counts(normalize=True)"
   ]
  },
  {
   "cell_type": "code",
   "execution_count": null,
   "metadata": {},
   "outputs": [],
   "source": []
  },
  {
   "cell_type": "code",
   "execution_count": null,
   "metadata": {},
   "outputs": [],
   "source": []
  }
 ],
 "metadata": {
  "kernelspec": {
   "display_name": "Python 3",
   "language": "python",
   "name": "python3"
  },
  "language_info": {
   "codemirror_mode": {
    "name": "ipython",
    "version": 3
   },
   "file_extension": ".py",
   "mimetype": "text/x-python",
   "name": "python",
   "nbconvert_exporter": "python",
   "pygments_lexer": "ipython3",
   "version": "3.8.5"
  }
 },
 "nbformat": 4,
 "nbformat_minor": 4
}
