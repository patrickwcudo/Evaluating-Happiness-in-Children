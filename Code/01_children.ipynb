{
 "cells": [
  {
   "cell_type": "code",
   "execution_count": 21,
   "metadata": {},
   "outputs": [],
   "source": [
    "#imports \n",
    "import pandas as pd"
   ]
  },
  {
   "cell_type": "code",
   "execution_count": 22,
   "metadata": {},
   "outputs": [],
   "source": [
    "child = pd.read_csv('../data/semi_clean_df.csv')"
   ]
  },
  {
   "cell_type": "code",
   "execution_count": 23,
   "metadata": {},
   "outputs": [
    {
     "data": {
      "text/plain": [
       " 0.0     4358\n",
       " 1.0      879\n",
       " 2.0      499\n",
       "-1.0      195\n",
       " 3.0      119\n",
       " 4.0       65\n",
       "-7.0       19\n",
       "-8.0        8\n",
       "-9.0        7\n",
       " 99.0       6\n",
       "Name: UNHAP42, dtype: int64"
      ]
     },
     "execution_count": 23,
     "metadata": {},
     "output_type": "execute_result"
    }
   ],
   "source": [
    "child['UNHAP42'].value_counts()"
   ]
  },
  {
   "cell_type": "code",
   "execution_count": 24,
   "metadata": {},
   "outputs": [],
   "source": [
    "# filter to only 1-4\n",
    "hap_filter =(child['UNHAP42'] == 0) | (child['UNHAP42'] == 1) | (child['UNHAP42'] == 2) | (child['UNHAP42'] == 3) | (child['UNHAP42'] == 4)"
   ]
  },
  {
   "cell_type": "code",
   "execution_count": 25,
   "metadata": {},
   "outputs": [
    {
     "data": {
      "text/plain": [
       "0.0    4358\n",
       "1.0     879\n",
       "2.0     499\n",
       "3.0     119\n",
       "4.0      65\n",
       "Name: UNHAP42, dtype: int64"
      ]
     },
     "execution_count": 25,
     "metadata": {},
     "output_type": "execute_result"
    }
   ],
   "source": [
    "child[hap_filter]['UNHAP42'].value_counts()"
   ]
  },
  {
   "cell_type": "code",
   "execution_count": 26,
   "metadata": {},
   "outputs": [],
   "source": [
    "df = child[hap_filter]"
   ]
  },
  {
   "cell_type": "code",
   "execution_count": 27,
   "metadata": {},
   "outputs": [
    {
     "name": "stderr",
     "output_type": "stream",
     "text": [
      "<ipython-input-27-5a9022233155>:2: SettingWithCopyWarning: \n",
      "A value is trying to be set on a copy of a slice from a DataFrame.\n",
      "Try using .loc[row_indexer,col_indexer] = value instead\n",
      "\n",
      "See the caveats in the documentation: https://pandas.pydata.org/pandas-docs/stable/user_guide/indexing.html#returning-a-view-versus-a-copy\n",
      "  df['UNHAP42'] = df['UNHAP42'].map({0:0, 1:1, 2:1, 3:1, 4:1})\n"
     ]
    }
   ],
   "source": [
    "# create classes for stars \n",
    "df['UNHAP42'] = df['UNHAP42'].map({0:0, 1:1, 2:1, 3:1, 4:1})"
   ]
  },
  {
   "cell_type": "code",
   "execution_count": 33,
   "metadata": {},
   "outputs": [
    {
     "data": {
      "text/plain": [
       "0    0.736149\n",
       "1    0.263851\n",
       "Name: UNHAP42, dtype: float64"
      ]
     },
     "execution_count": 33,
     "metadata": {},
     "output_type": "execute_result"
    }
   ],
   "source": [
    "df['UNHAP42'].value_counts(normalize=True)"
   ]
  },
  {
   "cell_type": "code",
   "execution_count": 30,
   "metadata": {},
   "outputs": [],
   "source": [
    "# imports for classifier\n",
    "# import classifers\n",
    "from sklearn.linear_model import LogisticRegression\n",
    "from sklearn.neighbors import KNeighborsClassifier\n",
    "from sklearn.svm import SVC\n",
    "from sklearn.ensemble import RandomForestClassifier, AdaBoostClassifier, BaggingClassifier\n",
    "from sklearn.tree import DecisionTreeClassifier\n",
    "# import home modeling function\n",
    "from model import modeling_class\n",
    "# import metrics\n",
    "from sklearn.model_selection import train_test_split, cross_val_score\n",
    "from sklearn.metrics import accuracy_score"
   ]
  },
  {
   "cell_type": "code",
   "execution_count": 34,
   "metadata": {},
   "outputs": [],
   "source": [
    "# set X, y \n",
    "X = df.drop(columns='UNHAP42')\n",
    "y = df['UNHAP42']"
   ]
  },
  {
   "cell_type": "code",
   "execution_count": 35,
   "metadata": {},
   "outputs": [],
   "source": [
    "#TTS\n",
    "X_train, X_test, y_train, y_test = train_test_split(X,y, stratify=y)"
   ]
  },
  {
   "cell_type": "code",
   "execution_count": 36,
   "metadata": {},
   "outputs": [],
   "source": [
    "# instantiate classifiers\n",
    "logreg = LogisticRegression()\n",
    "knn = KNeighborsClassifier()\n",
    "svc = SVC()\n",
    "forest = RandomForestClassifier()\n",
    "tree = DecisionTreeClassifier()\n",
    "abc = AdaBoostClassifier()\n",
    "bag = BaggingClassifier() "
   ]
  },
  {
   "cell_type": "code",
   "execution_count": 37,
   "metadata": {},
   "outputs": [],
   "source": [
    "# create list of classifiers\n",
    "class_list = [logreg, knn, svc, forest, tree, abc, bag]"
   ]
  },
  {
   "cell_type": "code",
   "execution_count": 38,
   "metadata": {},
   "outputs": [
    {
     "name": "stderr",
     "output_type": "stream",
     "text": [
      "C:\\Users\\phill\\anaconda3\\lib\\site-packages\\sklearn\\linear_model\\_logistic.py:762: ConvergenceWarning: lbfgs failed to converge (status=1):\n",
      "STOP: TOTAL NO. of ITERATIONS REACHED LIMIT.\n",
      "\n",
      "Increase the number of iterations (max_iter) or scale the data as shown in:\n",
      "    https://scikit-learn.org/stable/modules/preprocessing.html\n",
      "Please also refer to the documentation for alternative solver options:\n",
      "    https://scikit-learn.org/stable/modules/linear_model.html#logistic-regression\n",
      "  n_iter_i = _check_optimize_result(\n"
     ]
    }
   ],
   "source": [
    "# run function\n",
    "class_results = modeling_class(X_train, X_test, y_train, y_test, class_list)"
   ]
  },
  {
   "cell_type": "code",
   "execution_count": 39,
   "metadata": {},
   "outputs": [
    {
     "data": {
      "text/html": [
       "<div>\n",
       "<style scoped>\n",
       "    .dataframe tbody tr th:only-of-type {\n",
       "        vertical-align: middle;\n",
       "    }\n",
       "\n",
       "    .dataframe tbody tr th {\n",
       "        vertical-align: top;\n",
       "    }\n",
       "\n",
       "    .dataframe thead th {\n",
       "        text-align: right;\n",
       "    }\n",
       "</style>\n",
       "<table border=\"1\" class=\"dataframe\">\n",
       "  <thead>\n",
       "    <tr style=\"text-align: right;\">\n",
       "      <th></th>\n",
       "      <th>train_score</th>\n",
       "      <th>test_score</th>\n",
       "      <th>acc_score</th>\n",
       "      <th>f1_test</th>\n",
       "      <th>f1_train</th>\n",
       "    </tr>\n",
       "  </thead>\n",
       "  <tbody>\n",
       "    <tr>\n",
       "      <th>LogisticRegression()</th>\n",
       "      <td>0.834009</td>\n",
       "      <td>0.823649</td>\n",
       "      <td>0.823649</td>\n",
       "      <td>0.594090</td>\n",
       "      <td>0.618727</td>\n",
       "    </tr>\n",
       "    <tr>\n",
       "      <th>KNeighborsClassifier()</th>\n",
       "      <td>0.830180</td>\n",
       "      <td>0.768919</td>\n",
       "      <td>0.768919</td>\n",
       "      <td>0.389286</td>\n",
       "      <td>0.563657</td>\n",
       "    </tr>\n",
       "    <tr>\n",
       "      <th>SVC()</th>\n",
       "      <td>0.816892</td>\n",
       "      <td>0.802703</td>\n",
       "      <td>0.802703</td>\n",
       "      <td>0.485915</td>\n",
       "      <td>0.524839</td>\n",
       "    </tr>\n",
       "    <tr>\n",
       "      <th>RandomForestClassifier()</th>\n",
       "      <td>0.999775</td>\n",
       "      <td>0.839189</td>\n",
       "      <td>0.839189</td>\n",
       "      <td>0.659026</td>\n",
       "      <td>0.999573</td>\n",
       "    </tr>\n",
       "    <tr>\n",
       "      <th>DecisionTreeClassifier()</th>\n",
       "      <td>0.999775</td>\n",
       "      <td>0.783108</td>\n",
       "      <td>0.783108</td>\n",
       "      <td>0.590038</td>\n",
       "      <td>0.999573</td>\n",
       "    </tr>\n",
       "    <tr>\n",
       "      <th>AdaBoostClassifier()</th>\n",
       "      <td>0.854054</td>\n",
       "      <td>0.847973</td>\n",
       "      <td>0.847973</td>\n",
       "      <td>0.685315</td>\n",
       "      <td>0.696913</td>\n",
       "    </tr>\n",
       "    <tr>\n",
       "      <th>BaggingClassifier()</th>\n",
       "      <td>0.986261</td>\n",
       "      <td>0.819595</td>\n",
       "      <td>0.819595</td>\n",
       "      <td>0.626573</td>\n",
       "      <td>0.973444</td>\n",
       "    </tr>\n",
       "  </tbody>\n",
       "</table>\n",
       "</div>"
      ],
      "text/plain": [
       "                          train_score  test_score  acc_score   f1_test  \\\n",
       "LogisticRegression()         0.834009    0.823649   0.823649  0.594090   \n",
       "KNeighborsClassifier()       0.830180    0.768919   0.768919  0.389286   \n",
       "SVC()                        0.816892    0.802703   0.802703  0.485915   \n",
       "RandomForestClassifier()     0.999775    0.839189   0.839189  0.659026   \n",
       "DecisionTreeClassifier()     0.999775    0.783108   0.783108  0.590038   \n",
       "AdaBoostClassifier()         0.854054    0.847973   0.847973  0.685315   \n",
       "BaggingClassifier()          0.986261    0.819595   0.819595  0.626573   \n",
       "\n",
       "                          f1_train  \n",
       "LogisticRegression()      0.618727  \n",
       "KNeighborsClassifier()    0.563657  \n",
       "SVC()                     0.524839  \n",
       "RandomForestClassifier()  0.999573  \n",
       "DecisionTreeClassifier()  0.999573  \n",
       "AdaBoostClassifier()      0.696913  \n",
       "BaggingClassifier()       0.973444  "
      ]
     },
     "execution_count": 39,
     "metadata": {},
     "output_type": "execute_result"
    }
   ],
   "source": [
    "class_results"
   ]
  },
  {
   "cell_type": "code",
   "execution_count": null,
   "metadata": {},
   "outputs": [],
   "source": []
  },
  {
   "cell_type": "code",
   "execution_count": null,
   "metadata": {},
   "outputs": [],
   "source": []
  },
  {
   "cell_type": "code",
   "execution_count": null,
   "metadata": {},
   "outputs": [],
   "source": []
  },
  {
   "cell_type": "code",
   "execution_count": null,
   "metadata": {},
   "outputs": [],
   "source": []
  }
 ],
 "metadata": {
  "kernelspec": {
   "display_name": "Python 3",
   "language": "python",
   "name": "python3"
  },
  "language_info": {
   "codemirror_mode": {
    "name": "ipython",
    "version": 3
   },
   "file_extension": ".py",
   "mimetype": "text/x-python",
   "name": "python",
   "nbconvert_exporter": "python",
   "pygments_lexer": "ipython3",
   "version": "3.8.5"
  }
 },
 "nbformat": 4,
 "nbformat_minor": 4
}
